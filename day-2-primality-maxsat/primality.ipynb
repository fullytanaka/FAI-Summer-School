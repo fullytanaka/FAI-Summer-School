{
 "cells": [
  {
   "cell_type": "markdown",
   "metadata": {},
   "source": [
    "# Error Probability\n",
    "Calculate the error probability of WITNESS for the following problem instance `(x, y)`:\n",
    "`(00011011, 10101101)`"
   ]
  },
  {
   "cell_type": "code",
   "execution_count": 12,
   "metadata": {},
   "outputs": [
    {
     "name": "stdout",
     "output_type": "stream",
     "text": [
      "Error Probability: 0.375\n"
     ]
    }
   ],
   "source": [
    "def calculate_error_probability(x, y):\n",
    "    error_count = 0\n",
    "    for i in range(len(x)):\n",
    "        if x[i] != y[i]:\n",
    "            error_count += 1\n",
    "    return error_count / len(x)\n",
    "\n",
    "x = '00011011'\n",
    "y = '10101101'\n",
    "error_prob = calculate_error_probability(x, y)\n",
    "print(f\"Error Probability: {1 - error_prob}\")\n"
   ]
  },
  {
   "cell_type": "markdown",
   "metadata": {},
   "source": [
    "# Miller Rabin Test\n",
    "Assume that for a given composite number `n` there are at least `(n − 1)/2` witnesses in `{2, ..., n − 1}` for `n` being not prime using the Miller-Rabin test. How many times do we need to call the test procedure to be at least 94% sure whether a given n is prime or not?"
   ]
  },
  {
   "cell_type": "code",
   "execution_count": 10,
   "metadata": {},
   "outputs": [
    {
     "name": "stdout",
     "output_type": "stream",
     "text": [
      "Error Probability: 0.9999999999999991\n"
     ]
    }
   ],
   "source": [
    "'''\n",
    "Miller Rabin has a 50% error probability.\n",
    "The error probability is the probability that the algorithm will return an incorrect result.\n",
    "\n",
    "Therefore, to get an error probability of 0.94, we need to run the algorithm\n",
    "5 times.\n",
    "1 - 0.5^4 = 0.9375\n",
    "1 - 0.5^5 = 0.96875\n",
    "'''\n",
    "\n",
    "# If we test 50 times, the error probability is...\n",
    "error_prob = 1 - 0.5**50\n",
    "print(f\"Error Probability: {error_prob}\")\n",
    "\n",
    "# This is usually good enough for most applications, as you can see, hopefully...\n",
    "# The chance of your hardware failing is much higher than the chance of the algorithm failing."
   ]
  },
  {
   "cell_type": "markdown",
   "metadata": {},
   "source": [
    "# Implementations\n",
    "\n",
    "Take note of the times listed below each cell... you'll respect why we use probabilistic models :)"
   ]
  },
  {
   "cell_type": "markdown",
   "metadata": {},
   "source": [
    "## Sieve of Eratosthenes"
   ]
  },
  {
   "cell_type": "code",
   "execution_count": 61,
   "metadata": {},
   "outputs": [
    {
     "name": "stdout",
     "output_type": "stream",
     "text": [
      "[999953, 999959, 999961, 999979, 999983]\n",
      "5\n",
      "CPU times: user 5min 34s, sys: 9.95 ms, total: 5min 34s\n",
      "Wall time: 5min 35s\n"
     ]
    }
   ],
   "source": [
    "%%time\n",
    "def sieve_of_eratosthenes(n: int) -> [int]:\n",
    "    primes = []\n",
    "    \n",
    "    # All integers from 2 to n\n",
    "    L = list(range(2, n+1))\n",
    "    \n",
    "    while len(L) != 0:\n",
    "        \n",
    "        # Head\n",
    "        a = L[0]\n",
    "        \n",
    "        # Append a to primes (is a prime number)\n",
    "        primes.append(a)\n",
    "        \n",
    "        # Delete all multiples of a from L\n",
    "        L = [i for i in L if i % a != 0]\n",
    "        \n",
    "    return primes\n",
    "        \n",
    "primes = sieve_of_eratosthenes(1_000_000)[-5:]\n",
    "print(primes[-5:])\n",
    "print(len(primes))"
   ]
  },
  {
   "cell_type": "markdown",
   "metadata": {},
   "source": [
    "## Miller Rabin Test"
   ]
  },
  {
   "cell_type": "code",
   "execution_count": 49,
   "metadata": {},
   "outputs": [
    {
     "name": "stdout",
     "output_type": "stream",
     "text": [
      "CPU times: user 70 µs, sys: 1e+03 ns, total: 71 µs\n",
      "Wall time: 75.6 µs\n"
     ]
    },
    {
     "data": {
      "text/plain": [
       "False"
      ]
     },
     "execution_count": 49,
     "metadata": {},
     "output_type": "execute_result"
    }
   ],
   "source": [
    "%%time\n",
    "import random\n",
    "\n",
    "def miller_rabin_test(n: int, k: int) -> bool:\n",
    "\n",
    "    # Base cases\n",
    "    if n == 2 or n == 3:\n",
    "        return True\n",
    "    \n",
    "    # Write n as 2^r * d + 1\n",
    "    r = 0\n",
    "    d = n - 1\n",
    "    # d is even\n",
    "    while d % 2 == 0:\n",
    "        r += 1\n",
    "        d //= 2\n",
    "    \n",
    "    # Witness loop\n",
    "    for _ in range(k):\n",
    "        a = random.randint(2, n-2)\n",
    "        x = pow(a, d, n)\n",
    "        if x == 1 or x == n-1:\n",
    "            continue\n",
    "        for _ in range(r-1):\n",
    "            x = pow(x, 2, n)\n",
    "            if x == n-1:\n",
    "                break\n",
    "        else:\n",
    "            return False\n",
    "    return True\n",
    "\n",
    "miller_rabin_test(561, 50)"
   ]
  },
  {
   "cell_type": "code",
   "execution_count": 52,
   "metadata": {},
   "outputs": [
    {
     "name": "stdout",
     "output_type": "stream",
     "text": [
      "[999953, 999959, 999961, 999979, 999983]\n",
      "78498\n",
      "CPU times: user 11.1 s, sys: 23 ms, total: 11.1 s\n",
      "Wall time: 11.2 s\n"
     ]
    }
   ],
   "source": [
    "%%time\n",
    "n = 1_000_000\n",
    "k = 50\n",
    "primes = [i for i in range(2, n+1) if miller_rabin_test(i, k)]\n",
    "print(prime_numbers[-5:])\n",
    "print(len(primes))"
   ]
  }
 ],
 "metadata": {
  "kernelspec": {
   "display_name": "base",
   "language": "python",
   "name": "python3"
  },
  "language_info": {
   "codemirror_mode": {
    "name": "ipython",
    "version": 3
   },
   "file_extension": ".py",
   "mimetype": "text/x-python",
   "name": "python",
   "nbconvert_exporter": "python",
   "pygments_lexer": "ipython3",
   "version": "3.11.5"
  }
 },
 "nbformat": 4,
 "nbformat_minor": 2
}
